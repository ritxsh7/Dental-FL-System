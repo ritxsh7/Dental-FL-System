{
 "cells": [
  {
   "cell_type": "code",
   "execution_count": 2,
   "metadata": {},
   "outputs": [],
   "source": [
    "from ultralytics import YOLO"
   ]
  },
  {
   "cell_type": "code",
   "execution_count": 3,
   "metadata": {},
   "outputs": [],
   "source": [
    "model_path = \"yolov5-model/best.pt\"\n",
    "model = YOLO(model=model_path)"
   ]
  },
  {
   "cell_type": "code",
   "execution_count": 4,
   "metadata": {},
   "outputs": [
    {
     "name": "stdout",
     "output_type": "stream",
     "text": [
      "\n",
      "image 1/1 d:\\BE Project\\Dental OPG XRAY Dataset\\opg-data\\data\\test\\images\\217_jpg.rf.4e9a2b6c944e4816f6cc5190456b61ad.jpg: 320x640 1 Healthy, 1 Fr, 149.6ms\n",
      "Speed: 9.8ms preprocess, 149.6ms inference, 10.5ms postprocess per image at shape (1, 3, 320, 640)\n",
      "Results saved to \u001b[1mruns\\detect\\predict2\u001b[0m\n",
      "tensor([[264.0670, 124.9288, 294.0138, 206.0921],\n",
      "        [215.2101, 186.8942, 260.0469, 260.0457]])\n",
      "Confidence Scores: tensor([0.6020, 0.2655])\n",
      "Class Indices: tensor([5., 0.])\n"
     ]
    }
   ],
   "source": [
    "# Perform prediction on a random image\n",
    "results = model.predict(source='opg-data/data/test/images/217_jpg.rf.4e9a2b6c944e4816f6cc5190456b61ad.jpg', save=True) \n",
    "print(results[0].boxes.xyxy)\n",
    "print(\"Confidence Scores:\", results[0].boxes.conf)\n",
    "print(\"Class Indices:\", results[0].boxes.cls)"
   ]
  },
  {
   "cell_type": "code",
   "execution_count": 5,
   "metadata": {},
   "outputs": [
    {
     "data": {
      "text/plain": [
       "array([[[197, 197, 197],\n",
       "        [199, 199, 199],\n",
       "        [199, 199, 199],\n",
       "        ...,\n",
       "        [193, 193, 193],\n",
       "        [188, 188, 188],\n",
       "        [178, 178, 178]],\n",
       "\n",
       "       [[210, 210, 210],\n",
       "        [210, 210, 210],\n",
       "        [208, 208, 208],\n",
       "        ...,\n",
       "        [192, 192, 192],\n",
       "        [186, 186, 186],\n",
       "        [179, 179, 179]],\n",
       "\n",
       "       [[219, 219, 219],\n",
       "        [218, 218, 218],\n",
       "        [215, 215, 215],\n",
       "        ...,\n",
       "        [192, 192, 192],\n",
       "        [185, 185, 185],\n",
       "        [183, 183, 183]],\n",
       "\n",
       "       ...,\n",
       "\n",
       "       [[ 41,  41,  41],\n",
       "        [ 37,  37,  37],\n",
       "        [ 37,  37,  37],\n",
       "        ...,\n",
       "        [ 40,  40,  40],\n",
       "        [ 33,  33,  33],\n",
       "        [ 37,  37,  37]],\n",
       "\n",
       "       [[ 33,  33,  33],\n",
       "        [ 33,  33,  33],\n",
       "        [ 33,  33,  33],\n",
       "        ...,\n",
       "        [ 25,  25,  25],\n",
       "        [144, 144, 144],\n",
       "        [ 53,  53,  53]],\n",
       "\n",
       "       [[ 33,  33,  33],\n",
       "        [ 33,  33,  33],\n",
       "        [ 33,  33,  33],\n",
       "        ...,\n",
       "        [ 47,  47,  47],\n",
       "        [174, 174, 174],\n",
       "        [ 71,  71,  71]]], dtype=uint8)"
      ]
     },
     "execution_count": 5,
     "metadata": {},
     "output_type": "execute_result"
    }
   ],
   "source": [
    "results[0].orig_img"
   ]
  },
  {
   "cell_type": "code",
   "execution_count": null,
   "metadata": {},
   "outputs": [],
   "source": []
  }
 ],
 "metadata": {
  "kernelspec": {
   "display_name": "base",
   "language": "python",
   "name": "python3"
  },
  "language_info": {
   "codemirror_mode": {
    "name": "ipython",
    "version": 3
   },
   "file_extension": ".py",
   "mimetype": "text/x-python",
   "name": "python",
   "nbconvert_exporter": "python",
   "pygments_lexer": "ipython3",
   "version": "3.12.7"
  }
 },
 "nbformat": 4,
 "nbformat_minor": 2
}
