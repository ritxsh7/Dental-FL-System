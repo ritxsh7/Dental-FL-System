{
 "cells": [
  {
   "cell_type": "code",
   "execution_count": 2,
   "metadata": {},
   "outputs": [],
   "source": [
    "from ultralytics import YOLO"
   ]
  },
  {
   "cell_type": "code",
   "execution_count": 3,
   "metadata": {},
   "outputs": [],
   "source": [
    "model_path = \"server/model/best_model.pt\"\n",
    "model = YOLO(model=model_path)"
   ]
  },
  {
   "cell_type": "code",
   "execution_count": 10,
   "metadata": {},
   "outputs": [
    {
     "name": "stdout",
     "output_type": "stream",
     "text": [
      "\n",
      "image 1/1 d:\\BE Project\\application\\opg-data\\data\\test\\images\\157_jpg.rf.86e6b8b13ac89f7c6b98a7a74a7ac9a5.jpg: 320x640 (no detections), 117.1ms\n",
      "Speed: 0.0ms preprocess, 117.1ms inference, 0.0ms postprocess per image at shape (1, 3, 320, 640)\n",
      "Results saved to \u001b[1mruns\\detect\\predict\u001b[0m\n",
      "tensor([], size=(0, 4))\n",
      "Confidence Scores: tensor([])\n",
      "Class Indices: tensor([])\n"
     ]
    }
   ],
   "source": [
    "# Perform prediction on a random image\n",
    "results = model.predict(source='opg-data/data/test/images/157_jpg.rf.86e6b8b13ac89f7c6b98a7a74a7ac9a5.jpg', save=True) \n",
    "print(results[0].boxes.xyxy)\n",
    "print(\"Confidence Scores:\", results[0].boxes.conf)\n",
    "print(\"Class Indices:\", results[0].boxes.cls)"
   ]
  }
 ],
 "metadata": {
  "kernelspec": {
   "display_name": "base",
   "language": "python",
   "name": "python3"
  },
  "language_info": {
   "codemirror_mode": {
    "name": "ipython",
    "version": 3
   },
   "file_extension": ".py",
   "mimetype": "text/x-python",
   "name": "python",
   "nbconvert_exporter": "python",
   "pygments_lexer": "ipython3",
   "version": "3.12.7"
  }
 },
 "nbformat": 4,
 "nbformat_minor": 2
}
